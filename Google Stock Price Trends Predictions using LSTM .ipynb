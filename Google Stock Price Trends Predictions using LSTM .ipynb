{
 "cells": [
  {
   "cell_type": "markdown",
   "metadata": {
    "colab_type": "text",
    "id": "xpAuMVCwfWs8"
   },
   "source": [
    "# Google Stock Price Prediciton - LSTM Time Series Prediction"
   ]
  },
  {
   "cell_type": "markdown",
   "metadata": {},
   "source": [
    "This project builds a LSTM-based RNN prediction model to predict the Google stock price using stock price data from 2004-2020."
   ]
  },
  {
   "cell_type": "markdown",
   "metadata": {
    "colab_type": "text",
    "id": "nxJfRe4bfYVA"
   },
   "source": [
    "## Part 1 - Data Preprocessing"
   ]
  },
  {
   "cell_type": "markdown",
   "metadata": {
    "colab_type": "text",
    "id": "ir9zwETrfbrp"
   },
   "source": [
    "### Importing the libraries"
   ]
  },
  {
   "cell_type": "code",
   "execution_count": 56,
   "metadata": {
    "colab": {},
    "colab_type": "code",
    "id": "ZT1f24vHffuf"
   },
   "outputs": [],
   "source": [
    "import numpy as np\n",
    "import matplotlib.pyplot as plt\n",
    "import pandas as pd"
   ]
  },
  {
   "cell_type": "markdown",
   "metadata": {
    "colab_type": "text",
    "id": "nQ47JAxrgmaL"
   },
   "source": [
    "### Importing dataset"
   ]
  },
  {
   "cell_type": "code",
   "execution_count": 57,
   "metadata": {
    "scrolled": false
   },
   "outputs": [
    {
     "data": {
      "text/html": [
       "<div>\n",
       "<style scoped>\n",
       "    .dataframe tbody tr th:only-of-type {\n",
       "        vertical-align: middle;\n",
       "    }\n",
       "\n",
       "    .dataframe tbody tr th {\n",
       "        vertical-align: top;\n",
       "    }\n",
       "\n",
       "    .dataframe thead th {\n",
       "        text-align: right;\n",
       "    }\n",
       "</style>\n",
       "<table border=\"1\" class=\"dataframe\">\n",
       "  <thead>\n",
       "    <tr style=\"text-align: right;\">\n",
       "      <th></th>\n",
       "      <th>Date</th>\n",
       "      <th>Open</th>\n",
       "      <th>High</th>\n",
       "      <th>Low</th>\n",
       "      <th>Close</th>\n",
       "      <th>Adj Close</th>\n",
       "      <th>Volume</th>\n",
       "    </tr>\n",
       "  </thead>\n",
       "  <tbody>\n",
       "    <tr>\n",
       "      <th>0</th>\n",
       "      <td>2004-08-19</td>\n",
       "      <td>50.050049</td>\n",
       "      <td>52.082081</td>\n",
       "      <td>48.028027</td>\n",
       "      <td>50.220219</td>\n",
       "      <td>50.220219</td>\n",
       "      <td>44659000</td>\n",
       "    </tr>\n",
       "    <tr>\n",
       "      <th>1</th>\n",
       "      <td>2004-08-20</td>\n",
       "      <td>50.555557</td>\n",
       "      <td>54.594593</td>\n",
       "      <td>50.300301</td>\n",
       "      <td>54.209209</td>\n",
       "      <td>54.209209</td>\n",
       "      <td>22834300</td>\n",
       "    </tr>\n",
       "  </tbody>\n",
       "</table>\n",
       "</div>"
      ],
      "text/plain": [
       "         Date       Open       High        Low      Close  Adj Close    Volume\n",
       "0  2004-08-19  50.050049  52.082081  48.028027  50.220219  50.220219  44659000\n",
       "1  2004-08-20  50.555557  54.594593  50.300301  54.209209  54.209209  22834300"
      ]
     },
     "execution_count": 57,
     "metadata": {},
     "output_type": "execute_result"
    }
   ],
   "source": [
    "google = pd.read_csv('GOOGL.csv')\n",
    "google.head(2)"
   ]
  },
  {
   "cell_type": "code",
   "execution_count": 58,
   "metadata": {
    "scrolled": true
   },
   "outputs": [
    {
     "name": "stdout",
     "output_type": "stream",
     "text": [
      "<class 'pandas.core.frame.DataFrame'>\n",
      "RangeIndex: 4041 entries, 0 to 4040\n",
      "Data columns (total 7 columns):\n",
      " #   Column     Non-Null Count  Dtype  \n",
      "---  ------     --------------  -----  \n",
      " 0   Date       4041 non-null   object \n",
      " 1   Open       4041 non-null   float64\n",
      " 2   High       4041 non-null   float64\n",
      " 3   Low        4041 non-null   float64\n",
      " 4   Close      4041 non-null   float64\n",
      " 5   Adj Close  4041 non-null   float64\n",
      " 6   Volume     4041 non-null   int64  \n",
      "dtypes: float64(5), int64(1), object(1)\n",
      "memory usage: 221.1+ KB\n"
     ]
    }
   ],
   "source": [
    "google.info()"
   ]
  },
  {
   "cell_type": "markdown",
   "metadata": {},
   "source": [
    "### Split training and validation set"
   ]
  },
  {
   "cell_type": "markdown",
   "metadata": {},
   "source": [
    "Here I used open stock price from 2008-2019 to train the model and predicted the trend of the stock price for 2020. Note that the future variations of the stock price are independent from the past, so it's impossible to predict the exact future stock price. The goal is to capture the downward and upward trends in Google stock price."
   ]
  },
  {
   "cell_type": "code",
   "execution_count": 59,
   "metadata": {},
   "outputs": [],
   "source": [
    "from datetime import datetime\n",
    "google['Date'] = google['Date'].apply(lambda x: datetime.date(datetime.strptime(x , '%Y-%m-%d')))\n"
   ]
  },
  {
   "cell_type": "code",
   "execution_count": 60,
   "metadata": {},
   "outputs": [],
   "source": [
    "dataset_train = google.query(\"Date<datetime.date(datetime.strptime('2020-01-01', '%Y-%m-%d'))\")\n",
    "dataset_test = google.drop(dataset_train.index)"
   ]
  },
  {
   "cell_type": "code",
   "execution_count": 61,
   "metadata": {},
   "outputs": [],
   "source": [
    "training_set = dataset_train.iloc[:, 1:2].values"
   ]
  },
  {
   "cell_type": "markdown",
   "metadata": {
    "colab_type": "text",
    "id": "HT8_2UJegtG5"
   },
   "source": [
    "### Feature Scaling"
   ]
  },
  {
   "cell_type": "markdown",
   "metadata": {},
   "source": [
    "Normalization is recommended in training Neural Network, if there is a sigmoid function as the activation function\n",
    "in the output layer of you recurrent neural network."
   ]
  },
  {
   "cell_type": "code",
   "execution_count": 62,
   "metadata": {
    "colab": {},
    "colab_type": "code",
    "id": "OTrF2kR7gx9x"
   },
   "outputs": [],
   "source": [
    "from sklearn.preprocessing import MinMaxScaler\n",
    "sc = MinMaxScaler(feature_range = (0, 1))\n",
    "training_set_scaled = sc.fit_transform(training_set)"
   ]
  },
  {
   "cell_type": "markdown",
   "metadata": {
    "colab_type": "text",
    "id": "JyYgYocqhNUg"
   },
   "source": [
    "### Creating a data structure with 60 timesteps and 1 output"
   ]
  },
  {
   "cell_type": "markdown",
   "metadata": {},
   "source": [
    "It's super important to have the right number of time steps because a wrong number of time steps could lead to over fitting or nonsense predictions.I've tried [10,20,30,40,50,60,90] timesteps, and found 60 which corresponds to three months is the optimal.\n",
    "\n",
    "A special data structure is needed to cover 60-time stamps, based on which RNN will predict the 61st price."
   ]
  },
  {
   "cell_type": "code",
   "execution_count": 65,
   "metadata": {
    "colab": {},
    "colab_type": "code",
    "id": "iofU21B0i6ST"
   },
   "outputs": [],
   "source": [
    "X_train = []\n",
    "y_train = []\n",
    "for i in range(60,training_set.shape[0]) :\n",
    "    X_train.append(training_set_scaled[i-60:i, 0])\n",
    "    y_train.append(training_set_scaled[i, 0])\n",
    "X_train, y_train = np.array(X_train), np.array(y_train)"
   ]
  },
  {
   "cell_type": "markdown",
   "metadata": {
    "colab_type": "text",
    "id": "D8yaN7Zvi95l"
   },
   "source": [
    "### Reshaping"
   ]
  },
  {
   "cell_type": "code",
   "execution_count": 66,
   "metadata": {
    "colab": {},
    "colab_type": "code",
    "id": "FOXqJHmNjBkz"
   },
   "outputs": [],
   "source": [
    "X_train = np.reshape(X_train, (X_train.shape[0], X_train.shape[1], 1))"
   ]
  },
  {
   "cell_type": "markdown",
   "metadata": {
    "colab_type": "text",
    "id": "ZRRSOJeVjEWV"
   },
   "source": [
    "## Part 2 - Building and Training the RNN"
   ]
  },
  {
   "cell_type": "markdown",
   "metadata": {
    "colab_type": "text",
    "id": "k4XV88JMjHXG"
   },
   "source": [
    "### Importing the Keras libraries and packages"
   ]
  },
  {
   "cell_type": "code",
   "execution_count": 67,
   "metadata": {
    "colab": {
     "base_uri": "https://localhost:8080/",
     "height": 34
    },
    "colab_type": "code",
    "id": "9JRnqsxEjKsD",
    "outputId": "b3e23e78-18aa-4396-c923-c877b8de60e4"
   },
   "outputs": [],
   "source": [
    "from keras.models import Sequential\n",
    "from keras.layers import Dense\n",
    "from keras.layers import LSTM\n",
    "from keras.layers import Dropout"
   ]
  },
  {
   "cell_type": "markdown",
   "metadata": {
    "colab_type": "text",
    "id": "FEIE-1s9jNzC"
   },
   "source": [
    "### Initialising the RNN"
   ]
  },
  {
   "cell_type": "code",
   "execution_count": 68,
   "metadata": {
    "colab": {},
    "colab_type": "code",
    "id": "1338dJ0UjRKH"
   },
   "outputs": [],
   "source": [
    "regressor = Sequential()"
   ]
  },
  {
   "cell_type": "markdown",
   "metadata": {
    "colab_type": "text",
    "id": "62eg1OPGjT8z"
   },
   "source": [
    "### Adding the first LSTM layer and some Dropout regularisation"
   ]
  },
  {
   "cell_type": "markdown",
   "metadata": {},
   "source": [
    "Tried 50 nerons in the first LSTM layer to have high dimensionality to capture the trends.Hypertunning drop-out rate to improve the model fit."
   ]
  },
  {
   "cell_type": "code",
   "execution_count": 69,
   "metadata": {
    "colab": {},
    "colab_type": "code",
    "id": "2hIinyXUjbVU"
   },
   "outputs": [],
   "source": [
    "regressor.add(LSTM(units = 50, return_sequences = True, input_shape = (X_train.shape[1], 1)))\n",
    "regressor.add(Dropout(0.2))"
   ]
  },
  {
   "cell_type": "markdown",
   "metadata": {},
   "source": [
    "### Adding additional LSTM layers to create stacked LSTM model"
   ]
  },
  {
   "cell_type": "code",
   "execution_count": 70,
   "metadata": {
    "colab": {},
    "colab_type": "code",
    "id": "UG7nrVaSjuZ2"
   },
   "outputs": [],
   "source": [
    "regressor.add(LSTM(units = 50, return_sequences = True))\n",
    "regressor.add(Dropout(0.2))"
   ]
  },
  {
   "cell_type": "code",
   "execution_count": 71,
   "metadata": {
    "colab": {},
    "colab_type": "code",
    "id": "PuNi6PgFj7jO"
   },
   "outputs": [],
   "source": [
    "regressor.add(LSTM(units = 50, return_sequences = True))\n",
    "regressor.add(Dropout(0.2))"
   ]
  },
  {
   "cell_type": "code",
   "execution_count": 72,
   "metadata": {
    "colab": {},
    "colab_type": "code",
    "id": "Jp4Ty8fRkBYV"
   },
   "outputs": [],
   "source": [
    "regressor.add(LSTM(units = 50))\n",
    "regressor.add(Dropout(0.2))"
   ]
  },
  {
   "cell_type": "markdown",
   "metadata": {
    "colab_type": "text",
    "id": "9ABI6rOIkHhk"
   },
   "source": [
    "### Adding the output layer"
   ]
  },
  {
   "cell_type": "code",
   "execution_count": 73,
   "metadata": {
    "colab": {},
    "colab_type": "code",
    "id": "aM6R1z4WkME8"
   },
   "outputs": [],
   "source": [
    "regressor.add(Dense(units = 1))"
   ]
  },
  {
   "cell_type": "markdown",
   "metadata": {
    "colab_type": "text",
    "id": "zLx4K7uUkPSh"
   },
   "source": [
    "### Compiling the RNN"
   ]
  },
  {
   "cell_type": "code",
   "execution_count": 74,
   "metadata": {
    "colab": {},
    "colab_type": "code",
    "id": "XTrhVN-tkbko"
   },
   "outputs": [],
   "source": [
    "regressor.compile(optimizer = 'adam', loss = 'mean_squared_error')"
   ]
  },
  {
   "cell_type": "markdown",
   "metadata": {
    "colab_type": "text",
    "id": "-mPhwKGkkebi"
   },
   "source": [
    "### Fitting the RNN to the Training set"
   ]
  },
  {
   "cell_type": "code",
   "execution_count": 75,
   "metadata": {
    "colab": {
     "base_uri": "https://localhost:8080/",
     "height": 1000
    },
    "colab_type": "code",
    "id": "I06Nkrz5kkb-",
    "outputId": "dc9d947a-4d5c-4dbc-ed45-31bf44b98dfb"
   },
   "outputs": [
    {
     "name": "stdout",
     "output_type": "stream",
     "text": [
      "Epoch 1/100\n",
      "120/120 [==============================] - 9s 72ms/step - loss: 0.0081\n",
      "Epoch 2/100\n",
      "120/120 [==============================] - 9s 73ms/step - loss: 0.0024\n",
      "Epoch 3/100\n",
      "120/120 [==============================] - 9s 72ms/step - loss: 0.0022\n",
      "Epoch 4/100\n",
      "120/120 [==============================] - 9s 72ms/step - loss: 0.0019\n",
      "Epoch 5/100\n",
      "120/120 [==============================] - 9s 72ms/step - loss: 0.0017\n",
      "Epoch 6/100\n",
      "120/120 [==============================] - 9s 72ms/step - loss: 0.0017\n",
      "Epoch 7/100\n",
      "120/120 [==============================] - 9s 79ms/step - loss: 0.0018\n",
      "Epoch 8/100\n",
      "120/120 [==============================] - 9s 73ms/step - loss: 0.0015\n",
      "Epoch 9/100\n",
      "120/120 [==============================] - 9s 73ms/step - loss: 0.0014\n",
      "Epoch 10/100\n",
      "120/120 [==============================] - 9s 73ms/step - loss: 0.0013\n",
      "Epoch 11/100\n",
      "120/120 [==============================] - 9s 74ms/step - loss: 0.0015\n",
      "Epoch 12/100\n",
      "120/120 [==============================] - 9s 73ms/step - loss: 0.0013\n",
      "Epoch 13/100\n",
      "120/120 [==============================] - 9s 75ms/step - loss: 0.0012\n",
      "Epoch 14/100\n",
      "120/120 [==============================] - 9s 74ms/step - loss: 0.0017\n",
      "Epoch 15/100\n",
      "120/120 [==============================] - 9s 75ms/step - loss: 0.0012\n",
      "Epoch 16/100\n",
      "120/120 [==============================] - 9s 75ms/step - loss: 0.0010\n",
      "Epoch 17/100\n",
      "120/120 [==============================] - 9s 75ms/step - loss: 0.0013\n",
      "Epoch 18/100\n",
      "120/120 [==============================] - 9s 75ms/step - loss: 0.0011\n",
      "Epoch 19/100\n",
      "120/120 [==============================] - 9s 75ms/step - loss: 0.0012\n",
      "Epoch 20/100\n",
      "120/120 [==============================] - 10s 80ms/step - loss: 9.7887e-04\n",
      "Epoch 21/100\n",
      "120/120 [==============================] - 9s 78ms/step - loss: 0.0010\n",
      "Epoch 22/100\n",
      "120/120 [==============================] - 9s 76ms/step - loss: 9.1449e-04\n",
      "Epoch 23/100\n",
      "120/120 [==============================] - 9s 78ms/step - loss: 8.7778e-04\n",
      "Epoch 24/100\n",
      "120/120 [==============================] - 9s 76ms/step - loss: 7.9301e-04\n",
      "Epoch 25/100\n",
      "120/120 [==============================] - 9s 75ms/step - loss: 0.0011\n",
      "Epoch 26/100\n",
      "120/120 [==============================] - 9s 78ms/step - loss: 9.8427e-04\n",
      "Epoch 27/100\n",
      "120/120 [==============================] - 9s 77ms/step - loss: 8.9148e-04\n",
      "Epoch 28/100\n",
      "120/120 [==============================] - 10s 84ms/step - loss: 0.0015\n",
      "Epoch 29/100\n",
      "120/120 [==============================] - 11s 89ms/step - loss: 8.6558e-04\n",
      "Epoch 30/100\n",
      "120/120 [==============================] - 10s 84ms/step - loss: 9.2131e-04\n",
      "Epoch 31/100\n",
      "120/120 [==============================] - 10s 81ms/step - loss: 7.7492e-04\n",
      "Epoch 32/100\n",
      "120/120 [==============================] - 10s 80ms/step - loss: 8.0950e-04\n",
      "Epoch 33/100\n",
      "120/120 [==============================] - 9s 77ms/step - loss: 8.6145e-04\n",
      "Epoch 34/100\n",
      "120/120 [==============================] - 9s 77ms/step - loss: 8.1243e-04\n",
      "Epoch 35/100\n",
      "120/120 [==============================] - 10s 79ms/step - loss: 7.6783e-04\n",
      "Epoch 36/100\n",
      "120/120 [==============================] - 10s 80ms/step - loss: 7.2749e-04\n",
      "Epoch 37/100\n",
      "120/120 [==============================] - 9s 76ms/step - loss: 8.5298e-04\n",
      "Epoch 38/100\n",
      "120/120 [==============================] - 9s 77ms/step - loss: 7.9505e-04\n",
      "Epoch 39/100\n",
      "120/120 [==============================] - 9s 77ms/step - loss: 7.3361e-04\n",
      "Epoch 40/100\n",
      "120/120 [==============================] - 9s 79ms/step - loss: 7.4612e-04\n",
      "Epoch 41/100\n",
      "120/120 [==============================] - 9s 77ms/step - loss: 8.6710e-04\n",
      "Epoch 42/100\n",
      "120/120 [==============================] - 9s 75ms/step - loss: 7.2838e-04\n",
      "Epoch 43/100\n",
      "120/120 [==============================] - 9s 77ms/step - loss: 7.6870e-04\n",
      "Epoch 44/100\n",
      "120/120 [==============================] - 9s 75ms/step - loss: 7.7536e-04\n",
      "Epoch 45/100\n",
      "120/120 [==============================] - 9s 74ms/step - loss: 8.1400e-04\n",
      "Epoch 46/100\n",
      "120/120 [==============================] - 9s 75ms/step - loss: 7.4346e-04\n",
      "Epoch 47/100\n",
      "120/120 [==============================] - 9s 75ms/step - loss: 7.2959e-04\n",
      "Epoch 48/100\n",
      "120/120 [==============================] - 9s 77ms/step - loss: 7.7892e-04\n",
      "Epoch 49/100\n",
      "120/120 [==============================] - 9s 77ms/step - loss: 8.6217e-04\n",
      "Epoch 50/100\n",
      "120/120 [==============================] - 9s 76ms/step - loss: 7.9893e-04\n",
      "Epoch 51/100\n",
      "120/120 [==============================] - 9s 79ms/step - loss: 7.1941e-04\n",
      "Epoch 52/100\n",
      "120/120 [==============================] - 9s 79ms/step - loss: 7.3902e-04\n",
      "Epoch 53/100\n",
      "120/120 [==============================] - 9s 77ms/step - loss: 8.9724e-04\n",
      "Epoch 54/100\n",
      "120/120 [==============================] - 9s 77ms/step - loss: 7.1483e-04\n",
      "Epoch 55/100\n",
      "120/120 [==============================] - 9s 76ms/step - loss: 7.5039e-04\n",
      "Epoch 56/100\n",
      "120/120 [==============================] - 9s 78ms/step - loss: 7.1765e-04\n",
      "Epoch 57/100\n",
      "120/120 [==============================] - 9s 77ms/step - loss: 6.3949e-04\n",
      "Epoch 58/100\n",
      "120/120 [==============================] - 9s 77ms/step - loss: 6.9265e-04\n",
      "Epoch 59/100\n",
      "120/120 [==============================] - 9s 75ms/step - loss: 6.6905e-04\n",
      "Epoch 60/100\n",
      "120/120 [==============================] - 9s 76ms/step - loss: 7.0679e-04\n",
      "Epoch 61/100\n",
      "120/120 [==============================] - 9s 77ms/step - loss: 6.9325e-04\n",
      "Epoch 62/100\n",
      "120/120 [==============================] - 9s 76ms/step - loss: 7.6432e-04\n",
      "Epoch 63/100\n",
      "120/120 [==============================] - 9s 77ms/step - loss: 7.4026e-04: 0s - lo\n",
      "Epoch 64/100\n",
      "120/120 [==============================] - 9s 78ms/step - loss: 6.9245e-04\n",
      "Epoch 65/100\n",
      "120/120 [==============================] - 9s 77ms/step - loss: 7.0736e-04\n",
      "Epoch 66/100\n",
      "120/120 [==============================] - 10s 79ms/step - loss: 6.8146e-04\n",
      "Epoch 67/100\n",
      "120/120 [==============================] - 9s 78ms/step - loss: 6.6481e-04\n",
      "Epoch 68/100\n",
      "120/120 [==============================] - 9s 77ms/step - loss: 6.3226e-04\n",
      "Epoch 69/100\n",
      "120/120 [==============================] - 9s 78ms/step - loss: 7.0225e-04\n",
      "Epoch 70/100\n",
      "120/120 [==============================] - 9s 75ms/step - loss: 7.5059e-04\n",
      "Epoch 71/100\n",
      "120/120 [==============================] - 9s 76ms/step - loss: 8.2111e-04\n",
      "Epoch 72/100\n",
      "120/120 [==============================] - 9s 76ms/step - loss: 7.4784e-04\n",
      "Epoch 73/100\n",
      "120/120 [==============================] - 9s 78ms/step - loss: 6.1226e-04\n",
      "Epoch 74/100\n",
      "120/120 [==============================] - 9s 76ms/step - loss: 6.6820e-04\n",
      "Epoch 75/100\n",
      "120/120 [==============================] - 10s 82ms/step - loss: 7.0244e-04\n",
      "Epoch 76/100\n",
      "120/120 [==============================] - 9s 78ms/step - loss: 7.5921e-04\n",
      "Epoch 77/100\n",
      "120/120 [==============================] - 9s 75ms/step - loss: 5.6113e-04\n",
      "Epoch 78/100\n",
      "120/120 [==============================] - 9s 76ms/step - loss: 6.4540e-04\n",
      "Epoch 79/100\n",
      "120/120 [==============================] - 9s 76ms/step - loss: 7.1035e-04\n",
      "Epoch 80/100\n",
      "120/120 [==============================] - 11s 93ms/step - loss: 6.8628e-04\n",
      "Epoch 81/100\n",
      "120/120 [==============================] - 10s 87ms/step - loss: 7.0564e-04\n",
      "Epoch 82/100\n",
      "120/120 [==============================] - 10s 82ms/step - loss: 6.8244e-04\n",
      "Epoch 83/100\n",
      "120/120 [==============================] - 10s 84ms/step - loss: 7.2314e-04\n",
      "Epoch 84/100\n",
      "120/120 [==============================] - 10s 82ms/step - loss: 6.4801e-04\n",
      "Epoch 85/100\n",
      "120/120 [==============================] - 10s 83ms/step - loss: 6.6232e-04\n",
      "Epoch 86/100\n",
      "120/120 [==============================] - 10s 85ms/step - loss: 6.5667e-04\n",
      "Epoch 87/100\n",
      "120/120 [==============================] - 10s 87ms/step - loss: 6.9759e-04\n",
      "Epoch 88/100\n",
      "120/120 [==============================] - 10s 80ms/step - loss: 6.1554e-04\n",
      "Epoch 89/100\n",
      "120/120 [==============================] - 10s 81ms/step - loss: 6.5544e-04\n",
      "Epoch 90/100\n",
      "120/120 [==============================] - 10s 83ms/step - loss: 7.3470e-04\n",
      "Epoch 91/100\n",
      "120/120 [==============================] - 9s 78ms/step - loss: 6.3068e-04\n",
      "Epoch 92/100\n",
      "120/120 [==============================] - 10s 83ms/step - loss: 6.2934e-04\n",
      "Epoch 93/100\n",
      "120/120 [==============================] - 9s 76ms/step - loss: 6.0628e-04\n",
      "Epoch 94/100\n"
     ]
    },
    {
     "name": "stdout",
     "output_type": "stream",
     "text": [
      "120/120 [==============================] - 9s 75ms/step - loss: 5.8240e-04\n",
      "Epoch 95/100\n",
      "120/120 [==============================] - 10s 80ms/step - loss: 6.4416e-04\n",
      "Epoch 96/100\n",
      "120/120 [==============================] - 13s 106ms/step - loss: 6.1490e-04\n",
      "Epoch 97/100\n",
      "120/120 [==============================] - 10s 79ms/step - loss: 6.0914e-04\n",
      "Epoch 98/100\n",
      "120/120 [==============================] - 10s 81ms/step - loss: 7.4264e-04\n",
      "Epoch 99/100\n",
      "120/120 [==============================] - 9s 78ms/step - loss: 0.0012\n",
      "Epoch 100/100\n",
      "120/120 [==============================] - 9s 79ms/step - loss: 5.8990e-04\n"
     ]
    },
    {
     "data": {
      "text/plain": [
       "<tensorflow.python.keras.callbacks.History at 0x1a45c05790>"
      ]
     },
     "execution_count": 75,
     "metadata": {},
     "output_type": "execute_result"
    }
   ],
   "source": [
    "regressor.fit(X_train, y_train, epochs = 100, batch_size = 32)"
   ]
  },
  {
   "cell_type": "markdown",
   "metadata": {
    "colab_type": "text",
    "id": "4hRau_lIkrE8"
   },
   "source": [
    "## Part 3 - Making the predictions and visualising the results"
   ]
  },
  {
   "cell_type": "markdown",
   "metadata": {
    "colab_type": "text",
    "id": "SgJO6qEDksxD"
   },
   "source": [
    "### Getting the real stock price of 2020"
   ]
  },
  {
   "cell_type": "code",
   "execution_count": 76,
   "metadata": {
    "colab": {},
    "colab_type": "code",
    "id": "FmBT2zqukxTz"
   },
   "outputs": [],
   "source": [
    "\n",
    "real_stock_price = dataset_test.iloc[:, 1:2].values"
   ]
  },
  {
   "cell_type": "code",
   "execution_count": 79,
   "metadata": {},
   "outputs": [
    {
     "data": {
      "text/plain": [
       "(172, 1)"
      ]
     },
     "execution_count": 79,
     "metadata": {},
     "output_type": "execute_result"
    }
   ],
   "source": [
    "real_stock_price.shape"
   ]
  },
  {
   "cell_type": "code",
   "execution_count": 82,
   "metadata": {},
   "outputs": [
    {
     "data": {
      "text/plain": [
       "(4041,)"
      ]
     },
     "execution_count": 82,
     "metadata": {},
     "output_type": "execute_result"
    }
   ],
   "source": [
    "dataset_total.shape"
   ]
  },
  {
   "cell_type": "markdown",
   "metadata": {
    "colab_type": "text",
    "id": "GrvrLblxkz42"
   },
   "source": [
    "### Getting the predicted stock price of 2020"
   ]
  },
  {
   "cell_type": "code",
   "execution_count": 83,
   "metadata": {
    "colab": {},
    "colab_type": "code",
    "id": "emikTvUpk3Ck"
   },
   "outputs": [],
   "source": [
    "dataset_total = pd.concat((dataset_train['Open'], dataset_test['Open']), axis = 0)\n",
    "inputs = dataset_total[len(dataset_total) - len(dataset_test) - 60:].values\n",
    "inputs = inputs.reshape(-1,1)\n",
    "inputs = sc.transform(inputs)\n",
    "X_test = []\n",
    "for i in range(60, real_stock_price.shape[0]+60):\n",
    "    X_test.append(inputs[i-60:i, 0])\n",
    "X_test = np.array(X_test)\n",
    "X_test = np.reshape(X_test, (X_test.shape[0], X_test.shape[1], 1))\n",
    "predicted_stock_price = regressor.predict(X_test)\n",
    "predicted_stock_price = sc.inverse_transform(predicted_stock_price)"
   ]
  },
  {
   "cell_type": "markdown",
   "metadata": {
    "colab_type": "text",
    "id": "iFTNs3YHk6FQ"
   },
   "source": [
    "### Visualising the results"
   ]
  },
  {
   "cell_type": "code",
   "execution_count": 97,
   "metadata": {
    "colab": {
     "base_uri": "https://localhost:8080/",
     "height": 295
    },
    "colab_type": "code",
    "id": "8OUI8U49k9tH",
    "outputId": "db0ed15e-071b-4bae-955e-0eda3df95238",
    "scrolled": true
   },
   "outputs": [
    {
     "data": {
      "image/png": "[encoded data removed]",
      "text/plain": [
       "<Figure size 432x288 with 1 Axes>"
      ]
     },
     "metadata": {
      "needs_background": "light"
     },
     "output_type": "display_data"
    }
   ],
   "source": [
    "#plt.figure(figsize=(15,10),dpi=100)\n",
    "plt.plot(real_stock_price, color = 'red', label = 'Real Google Stock Price')\n",
    "plt.plot(predicted_stock_price, color = 'blue', label = 'Predicted Google Stock Price')\n",
    "plt.title('Google Stock Price Prediction')\n",
    "plt.xlabel('Time')\n",
    "plt.ylabel('Google Stock Price')\n",
    "plt.legend()\n",
    "plt.show()"
   ]
  },
  {
   "cell_type": "code",
   "execution_count": 90,
   "metadata": {},
   "outputs": [
    {
     "name": "stdout",
     "output_type": "stream",
     "text": [
      "Test RMSE: 86.61\n"
     ]
    }
   ],
   "source": [
    "from math import *\n",
    "from sklearn.metrics import mean_squared_error\n",
    "rmse = sqrt(mean_squared_error(real_stock_price, predicted_stock_price))\n",
    "print('Test RMSE: %.2f' % rmse)"
   ]
  },
  {
   "cell_type": "markdown",
   "metadata": {},
   "source": [
    "As the line graph shows, prediction lags behind the real values, because the model cannot react fast to non-linear changes. But on the other hand, the model reacts well to smooth changes. So, we conclude in parts of prediction which contain spikes, the model lags behind the actual prices, but the parts that contain smooth changes, the model manages to follow upwards and downward trends."
   ]
  },
  {
   "cell_type": "code",
   "execution_count": null,
   "metadata": {},
   "outputs": [],
   "source": []
  }
 ],
 "metadata": {
  "colab": {
   "collapsed_sections": [],
   "name": "recurrent_neural_network.ipynb",
   "provenance": []
  },
  "kernelspec": {
   "display_name": "Python 3",
   "language": "python",
   "name": "python3"
  },
  "language_info": {
   "codemirror_mode": {
    "name": "ipython",
    "version": 3
   },
   "file_extension": ".py",
   "mimetype": "text/x-python",
   "name": "python",
   "nbconvert_exporter": "python",
   "pygments_lexer": "ipython3",
   "version": "3.7.6"
  }
 },
 "nbformat": 4,
 "nbformat_minor": 1
}
